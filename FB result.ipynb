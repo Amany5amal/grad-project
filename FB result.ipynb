{
  "nbformat": 4,
  "nbformat_minor": 0,
  "metadata": {
    "colab": {
      "provenance": [],
      "authorship_tag": "ABX9TyO82FASRbG90igbeLtwZ9J0",
      "include_colab_link": true
    },
    "kernelspec": {
      "name": "python3",
      "display_name": "Python 3"
    },
    "language_info": {
      "name": "python"
    }
  },
  "cells": [
    {
      "cell_type": "markdown",
      "metadata": {
        "id": "view-in-github",
        "colab_type": "text"
      },
      "source": [
        "<a href=\"https://colab.research.google.com/github/Amany5amal/grad-project/blob/main/FB%20result.ipynb\" target=\"_parent\"><img src=\"https://colab.research.google.com/assets/colab-badge.svg\" alt=\"Open In Colab\"/></a>"
      ]
    },
    {
      "cell_type": "code",
      "execution_count": 1,
      "metadata": {
        "colab": {
          "base_uri": "https://localhost:8080/"
        },
        "id": "qCWyVX2k_JDa",
        "outputId": "65a2178f-08b0-4f3e-b5ad-61687c434f9d"
      },
      "outputs": [
        {
          "output_type": "stream",
          "name": "stdout",
          "text": [
            "   pyramid   9\n",
            "     eye   13\n",
            "[['r', 'z', 'h', 'j', 'p'], ['z', 'y', 'x', 'w', 'v', 'u', 't', 's'], ['z'], ['r', 'x', 'n', 'o', 's'], ['y', 'r', 'x', 'z', 'q', 't', 'p'], ['y', 'z', 'x', 'e', 'q', 's', 't', 'm']]\n",
            "{frozenset({'h', 'r', 'z', 'p', 'j'}): 1, frozenset({'u', 'x', 'w', 't', 'v', 'z', 's', 'y'}): 1, frozenset({'z'}): 1, frozenset({'x', 'n', 'r', 's', 'o'}): 1, frozenset({'x', 't', 'r', 'z', 'p', 'q', 'y'}): 1, frozenset({'x', 'e', 't', 'z', 's', 'm', 'q', 'y'}): 1}\n",
            "   Null Set   1\n",
            "     z   5\n",
            "       r   1\n",
            "       x   3\n",
            "         t   3\n",
            "           s   2\n",
            "             y   2\n",
            "           r   1\n",
            "             y   1\n",
            "     x   1\n",
            "       r   1\n",
            "         s   1\n",
            "{frozenset({'z'}): 3}\n",
            "{frozenset({'z'}): 1, frozenset({'x'}): 1, frozenset({'x', 't', 'z'}): 1}\n"
          ]
        }
      ],
      "source": [
        "class treeNode:\n",
        "    def __init__(self, nameValue, numOccur, parentNode):\n",
        "        self.name = nameValue\n",
        "        self.count = numOccur\n",
        "        self.nodeLink = None\n",
        "        self.parent = parentNode      \n",
        "        self.children = {}     \n",
        "    def inc(self, numOccur):\n",
        "        self.count += numOccur        \n",
        "    def disp(self, ind=1):\n",
        "        print ('  '*ind, self.name, ' ', self.count)\n",
        "        for child in self.children.values():\n",
        "            child.disp(ind+1)\n",
        "\n",
        "rootNode = treeNode('pyramid',9,None)\n",
        "\n",
        "rootNode.children['eye'] = treeNode('eye',13,None)\n",
        "\n",
        "rootNode.disp()\n",
        "def createTree(dataSet, minSup=1):\n",
        "    headerTable = {}\n",
        "    for trans in dataSet:\n",
        "        for item in trans:\n",
        "            headerTable[item] = headerTable.get(item, 0) + dataSet[trans]\n",
        "    for k in list(headerTable):  #remove items not meeting minSup\n",
        "        if headerTable[k] < minSup: \n",
        "            del(headerTable[k])\n",
        "    freqItemSet = set(headerTable.keys())\n",
        "    #print 'freqItemSet: ',freqItemSet\n",
        "    if len(freqItemSet) == 0: return None, None  #if no items meet min support -->get out\n",
        "    for k in headerTable:\n",
        "        headerTable[k] = [headerTable[k], None] #reformat headerTable to use Node link \n",
        "    #print 'headerTable: ',headerTable\n",
        "    retTree = treeNode('Null Set', 1, None) #create tree\n",
        "    for tranSet, count in dataSet.items():  #go through dataset 2nd time\n",
        "        localD = {}\n",
        "        for item in tranSet:  #put transaction items in order\n",
        "            if item in freqItemSet:\n",
        "                localD[item] = headerTable[item][0]\n",
        "        if len(localD) > 0:\n",
        "            orderedItems = [v[0] for v in sorted(localD.items(), key=lambda p: p[1], reverse=True)]\n",
        "            updateTree(orderedItems, retTree, headerTable, count)#populate tree with ordered freq itemset\n",
        "    return retTree, headerTable #return tree and header table\n",
        "\n",
        "def updateTree(items, inTree, headerTable, count):\n",
        "    if items[0] in inTree.children:#check if orderedItems[0] in retTree.children\n",
        "        inTree.children[items[0]].inc(count) #incrament count\n",
        "    else:   #add items[0] to inTree.children\n",
        "        inTree.children[items[0]] = treeNode(items[0], count, inTree)\n",
        "        if headerTable[items[0]][1] == None: #update header table \n",
        "            headerTable[items[0]][1] = inTree.children[items[0]]\n",
        "        else:\n",
        "            updateHeader(headerTable[items[0]][1], inTree.children[items[0]])\n",
        "    if len(items) > 1:#call updateTree() with remaining ordered items\n",
        "        updateTree(items[1::], inTree.children[items[0]], headerTable, count)\n",
        "\n",
        "def updateHeader(nodeToTest, targetNode):   #this version does not use recursion\n",
        "    while (nodeToTest.nodeLink != None):    #Do not use recursion to traverse a linked list!\n",
        "        nodeToTest = nodeToTest.nodeLink\n",
        "    nodeToTest.nodeLink = targetNode\n",
        "\n",
        "def loadSimpDat():\n",
        "    simpDat = [['r', 'z', 'h', 'j', 'p'],\n",
        "               ['z', 'y', 'x', 'w', 'v', 'u', 't', 's'],\n",
        "               ['z'],\n",
        "               ['r', 'x', 'n', 'o', 's'],\n",
        "               ['y', 'r', 'x', 'z', 'q', 't', 'p'],\n",
        "               ['y', 'z', 'x', 'e', 'q', 's', 't', 'm']]\n",
        "    return simpDat\n",
        "\n",
        "def createInitSet(dataSet):\n",
        "    retDict = {}\n",
        "    for trans in dataSet:\n",
        "        retDict[frozenset(trans)] = 1\n",
        "    return retDict\n",
        "\n",
        "simpDat = loadSimpDat()\n",
        "print(simpDat)\n",
        "initSet = createInitSet(simpDat)\n",
        "print(initSet)\n",
        "myFPtree, myHeaderTab = createTree(initSet, 3)\n",
        "\n",
        "myFPtree.disp()\n",
        "def ascendTree(leafNode, prefixPath): #ascends from leaf node to root\n",
        "    if leafNode.parent != None:\n",
        "        prefixPath.append(leafNode.name)\n",
        "        ascendTree(leafNode.parent, prefixPath)\n",
        "\n",
        "def findPrefixPath(basePat, treeNode): #treeNode comes from header table\n",
        "    condPats = {}\n",
        "    while treeNode != None:\n",
        "        prefixPath = []\n",
        "        ascendTree(treeNode, prefixPath)\n",
        "        if len(prefixPath) > 1: \n",
        "            condPats[frozenset(prefixPath[1:])] = treeNode.count\n",
        "        treeNode = treeNode.nodeLink\n",
        "    return condPats\n",
        "\n",
        "print(findPrefixPath('x', myHeaderTab['x'][1]))\n",
        "print(findPrefixPath('r', myHeaderTab['r'][1]))\n"
      ]
    },
    {
      "cell_type": "markdown",
      "source": [],
      "metadata": {
        "id": "xrteeX80_J59"
      }
    }
  ]
}