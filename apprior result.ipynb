{
  "nbformat": 4,
  "nbformat_minor": 0,
  "metadata": {
    "colab": {
      "provenance": [],
      "authorship_tag": "ABX9TyO6riE74s68HCDUWJ8DZHPm",
      "include_colab_link": true
    },
    "kernelspec": {
      "name": "python3",
      "display_name": "Python 3"
    },
    "language_info": {
      "name": "python"
    }
  },
  "cells": [
    {
      "cell_type": "markdown",
      "metadata": {
        "id": "view-in-github",
        "colab_type": "text"
      },
      "source": [
        "<a href=\"https://colab.research.google.com/github/Amany5amal/grad-project/blob/main/apprior%20result.ipynb\" target=\"_parent\"><img src=\"https://colab.research.google.com/assets/colab-badge.svg\" alt=\"Open In Colab\"/></a>"
      ]
    },
    {
      "cell_type": "code",
      "source": [
        "\n",
        "data = [\n",
        "        ['T100',['I1','I2','I5']],\n",
        "        ['T200',['I2','I4']],\n",
        "        ['T300',['I2','I3']],\n",
        "        ['T400',['I1','I2','I4']],\n",
        "        ['T500',['I1','I3']],\n",
        "        ['T600',['I2','I3']],\n",
        "        ['T700',['I1','I3']],\n",
        "        ['T800',['I1','I2','I3','I5']],\n",
        "        ['T900',['I1','I2','I3']]\n",
        "        ]\n",
        "\n",
        "init = []\n",
        "for i in data:\n",
        "    for q in i[1]:\n",
        "        if(q not in init):\n",
        "            init.append(q)\n",
        "init = sorted(init)\n",
        "print(init)"
      ],
      "metadata": {
        "colab": {
          "base_uri": "https://localhost:8080/"
        },
        "id": "AabxYYeIEzwO",
        "outputId": "de444434-018e-475c-fd9a-75b81c6da217"
      },
      "execution_count": 4,
      "outputs": [
        {
          "output_type": "stream",
          "name": "stdout",
          "text": [
            "['I1', 'I2', 'I3', 'I4', 'I5']\n"
          ]
        }
      ]
    },
    {
      "cell_type": "code",
      "source": [
        "sp = 0.4\n",
        "s = int(sp*len(init))\n",
        "s"
      ],
      "metadata": {
        "colab": {
          "base_uri": "https://localhost:8080/"
        },
        "id": "-3HlZDUKE6cu",
        "outputId": "4df6293f-4085-4ad1-b70a-60811891f7f6"
      },
      "execution_count": 5,
      "outputs": [
        {
          "output_type": "execute_result",
          "data": {
            "text/plain": [
              "2"
            ]
          },
          "metadata": {},
          "execution_count": 5
        }
      ]
    },
    {
      "cell_type": "code",
      "source": [
        "from collections import Counter\n",
        "\n",
        "c = Counter()\n",
        "for i in init:\n",
        "    for d in data:\n",
        "        if(i in d[1]):\n",
        "            c[i]+=1\n",
        "print(\"C1:\")\n",
        "for i in c:\n",
        "    print(str([i])+\": \"+str(c[i]))\n",
        "print()\n",
        "l = Counter()\n",
        "for i in c:\n",
        "    if(c[i] >= s):\n",
        "        l[frozenset([i])]+=c[i]\n",
        "print(\"L1:\")\n",
        "for i in l:\n",
        "    print(str(list(i))+\": \"+str(l[i]))\n",
        "print()\n",
        "pl = l\n",
        "pos = 1\n",
        "for count in range (2,1000):\n",
        "    nc = set()\n",
        "    temp = list(l)\n",
        "    for i in range(0,len(temp)):\n",
        "        for j in range(i+1,len(temp)):\n",
        "            t = temp[i].union(temp[j])\n",
        "            if(len(t) == count):\n",
        "                nc.add(temp[i].union(temp[j]))\n",
        "    nc = list(nc)\n",
        "    c = Counter()\n",
        "    for i in nc:\n",
        "        c[i] = 0\n",
        "        for q in data:\n",
        "            temp = set(q[1])\n",
        "            if(i.issubset(temp)):\n",
        "                c[i]+=1\n",
        "    print(\"C\"+str(count)+\":\")\n",
        "    for i in c:\n",
        "        print(str(list(i))+\": \"+str(c[i]))\n",
        "    print()\n",
        "    l = Counter()\n",
        "    for i in c:\n",
        "        if(c[i] >= s):\n",
        "            l[i]+=c[i]\n",
        "    print(\"L\"+str(count)+\":\")\n",
        "    for i in l:\n",
        "        print(str(list(i))+\": \"+str(l[i]))\n",
        "    print()\n",
        "    if(len(l) == 0):\n",
        "        break\n",
        "    pl = l\n",
        "    pos = count\n",
        "print(\"Result: \")\n",
        "print(\"L\"+str(pos)+\":\")\n",
        "for i in pl:\n",
        "    print(str(list(i))+\": \"+str(pl[i]))\n",
        "print()"
      ],
      "metadata": {
        "colab": {
          "base_uri": "https://localhost:8080/"
        },
        "id": "WW6eKV6JE7tb",
        "outputId": "301c9568-b518-48e9-cfd9-13916fe4f175"
      },
      "execution_count": 6,
      "outputs": [
        {
          "output_type": "stream",
          "name": "stdout",
          "text": [
            "C1:\n",
            "['I1']: 6\n",
            "['I2']: 7\n",
            "['I3']: 6\n",
            "['I4']: 2\n",
            "['I5']: 2\n",
            "\n",
            "L1:\n",
            "['I1']: 6\n",
            "['I2']: 7\n",
            "['I3']: 6\n",
            "['I4']: 2\n",
            "['I5']: 2\n",
            "\n",
            "C2:\n",
            "['I5', 'I2']: 2\n",
            "['I3', 'I5']: 1\n",
            "['I5', 'I1']: 2\n",
            "['I5', 'I4']: 0\n",
            "['I2', 'I1']: 4\n",
            "['I2', 'I4']: 2\n",
            "['I1', 'I4']: 1\n",
            "['I3', 'I4']: 0\n",
            "['I3', 'I1']: 4\n",
            "['I3', 'I2']: 4\n",
            "\n",
            "L2:\n",
            "['I5', 'I2']: 2\n",
            "['I5', 'I1']: 2\n",
            "['I2', 'I1']: 4\n",
            "['I2', 'I4']: 2\n",
            "['I3', 'I1']: 4\n",
            "['I3', 'I2']: 4\n",
            "\n",
            "C3:\n",
            "['I2', 'I1', 'I4']: 1\n",
            "['I3', 'I2', 'I4']: 0\n",
            "['I3', 'I2', 'I1']: 2\n",
            "['I3', 'I5', 'I2']: 1\n",
            "['I1', 'I5', 'I2']: 2\n",
            "['I3', 'I5', 'I1']: 1\n",
            "['I5', 'I2', 'I4']: 0\n",
            "\n",
            "L3:\n",
            "['I3', 'I2', 'I1']: 2\n",
            "['I1', 'I5', 'I2']: 2\n",
            "\n",
            "C4:\n",
            "['I2', 'I1', 'I3', 'I5']: 1\n",
            "\n",
            "L4:\n",
            "\n",
            "Result: \n",
            "L3:\n",
            "['I3', 'I2', 'I1']: 2\n",
            "['I1', 'I5', 'I2']: 2\n",
            "\n"
          ]
        }
      ]
    },
    {
      "cell_type": "code",
      "source": [
        "from itertools import combinations\n",
        "for l in pl:\n",
        "    c = [frozenset(q) for q in combinations(l,len(l)-1)]\n",
        "    mmax = 0\n",
        "    for a in c:\n",
        "        b = l-a\n",
        "        ab = l\n",
        "        sab = 0\n",
        "        sa = 0\n",
        "        sb = 0\n",
        "        for q in data:\n",
        "            temp = set(q[1])\n",
        "            if(a.issubset(temp)):\n",
        "                sa+=1\n",
        "            if(b.issubset(temp)):\n",
        "                sb+=1\n",
        "            if(ab.issubset(temp)):\n",
        "                sab+=1\n",
        "        temp = sab/sa*100\n",
        "        if(temp > mmax):\n",
        "            mmax = temp\n",
        "        temp = sab/sb*100\n",
        "        if(temp > mmax):\n",
        "            mmax = temp\n",
        "        print(str(list(a))+\" -> \"+str(list(b))+\" = \"+str(sab/sa*100)+\"%\")\n",
        "        print(str(list(b))+\" -> \"+str(list(a))+\" = \"+str(sab/sb*100)+\"%\")\n",
        "    curr = 1\n",
        "    print(\"choosing:\", end=' ')\n",
        "    for a in c:\n",
        "        b = l-a\n",
        "        ab = l\n",
        "        sab = 0\n",
        "        sa = 0\n",
        "        sb = 0\n",
        "        for q in data:\n",
        "            temp = set(q[1])\n",
        "            if(a.issubset(temp)):\n",
        "                sa+=1\n",
        "            if(b.issubset(temp)):\n",
        "                sb+=1\n",
        "            if(ab.issubset(temp)):\n",
        "                sab+=1\n",
        "        temp = sab/sa*100\n",
        "        if(temp == mmax):\n",
        "            print(curr, end = ' ')\n",
        "        curr += 1\n",
        "        temp = sab/sb*100\n",
        "        if(temp == mmax):\n",
        "            print(curr, end = ' ')\n",
        "        curr += 1\n",
        "    print()\n",
        "    print()"
      ],
      "metadata": {
        "colab": {
          "base_uri": "https://localhost:8080/"
        },
        "id": "r7kh5QpoFFCi",
        "outputId": "062ff379-bb6f-47fb-bc56-5bfd3b6f869e"
      },
      "execution_count": 7,
      "outputs": [
        {
          "output_type": "stream",
          "name": "stdout",
          "text": [
            "['I3', 'I2'] -> ['I1'] = 50.0%\n",
            "['I1'] -> ['I3', 'I2'] = 33.33333333333333%\n",
            "['I3', 'I1'] -> ['I2'] = 50.0%\n",
            "['I2'] -> ['I3', 'I1'] = 28.57142857142857%\n",
            "['I1', 'I2'] -> ['I3'] = 50.0%\n",
            "['I3'] -> ['I1', 'I2'] = 33.33333333333333%\n",
            "choosing: 1 3 5 \n",
            "\n",
            "['I5', 'I1'] -> ['I2'] = 100.0%\n",
            "['I2'] -> ['I5', 'I1'] = 28.57142857142857%\n",
            "['I2', 'I1'] -> ['I5'] = 50.0%\n",
            "['I5'] -> ['I2', 'I1'] = 100.0%\n",
            "['I2', 'I5'] -> ['I1'] = 100.0%\n",
            "['I1'] -> ['I2', 'I5'] = 33.33333333333333%\n",
            "choosing: 1 4 5 \n",
            "\n"
          ]
        }
      ]
    }
  ]
}