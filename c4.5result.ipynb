{
  "nbformat": 4,
  "nbformat_minor": 0,
  "metadata": {
    "colab": {
      "provenance": [],
      "authorship_tag": "ABX9TyPb8c5rrSgEYbmtaSMdblYD",
      "include_colab_link": true
    },
    "kernelspec": {
      "name": "python3",
      "display_name": "Python 3"
    },
    "language_info": {
      "name": "python"
    }
  },
  "cells": [
    {
      "cell_type": "markdown",
      "metadata": {
        "id": "view-in-github",
        "colab_type": "text"
      },
      "source": [
        "<a href=\"https://colab.research.google.com/github/Amany5amal/grad-project/blob/main/c4.5result.ipynb\" target=\"_parent\"><img src=\"https://colab.research.google.com/assets/colab-badge.svg\" alt=\"Open In Colab\"/></a>"
      ]
    },
    {
      "cell_type": "code",
      "execution_count": 1,
      "metadata": {
        "colab": {
          "base_uri": "https://localhost:8080/"
        },
        "id": "vMGutcwYuqvR",
        "outputId": "9ca037f1-7094-4d05-8bbc-de9d2495cb57"
      },
      "outputs": [
        {
          "output_type": "stream",
          "name": "stdout",
          "text": [
            "{'stature': {'high': 'male', 'short': 'female'}}\n"
          ]
        }
      ],
      "source": [
        "#C4.5 algorithm\n",
        "from math import log\n",
        "import operator\n",
        " \n",
        "def create_data(): #Build data and tags\n",
        "    dataSet=[['short', 'long hair', 'thin', 'female'],\n",
        "             ['high', 'short hair', 'thin', 'male'],\n",
        "             ['short', 'long hair', 'fat', 'female'],\n",
        "             ['high', 'long hair', 'thin', 'female'],\n",
        "             ['short', 'short hair', 'fat', 'male'],\n",
        "             ['short', 'short hair', 'thin', 'female'],\n",
        "             ['high', 'short hair', 'fat', 'male'],\n",
        "             ['high', 'long hair', 'fat', 'male'],\n",
        "             ['short', 'short hair', 'thin', 'male'],\n",
        "             ['high', 'short hair', 'thin', 'female'],\n",
        "             ['short', 'long hair', 'fat', 'female']]\n",
        "    labels= ['stature', 'hair', 'weight', 'gender']\n",
        "    return dataSet, labels\n",
        " \n",
        "def cal_entropy(dataSet):\n",
        "    num=len(dataSet)\n",
        "    label_count={}\n",
        "    for fea in dataSet:\n",
        "        current_label=fea[-1]#Statistic of each data type\n",
        "        if current_label not in label_count.keys():\n",
        "            label_count[current_label]=0\n",
        "            label_count[current_label]+=1 #Calculate how much data is in each class\n",
        "            entropy=0.0\n",
        "        for i in label_count: #Calculate empirical entropy\n",
        "            Pi=float(label_count[i])/num\n",
        "            entropy-=Pi*log(Pi,2)\n",
        "    return entropy\n",
        "def remove_feature(dataSet, axis, feature): #Remove a feature\n",
        "    retdataset=[]\n",
        "    for featVec in dataSet:\n",
        "        if featVec[axis]==feature:\n",
        "                reducedata=featVec[:axis]#Data before a feature\n",
        "                reducedata.extend(featVec[axis+1:])#Data after a feature\n",
        "                         # axis\n",
        "                retdataset.append(reducedata)\n",
        "                return retdataset\n",
        "def choose_best_feature(dataSet):\n",
        "    entropy=cal_entropy(dataSet)\n",
        "    feature_num=len(dataSet[0])-1\n",
        "    max_mutual_info=0\n",
        "    best_feature=-1\n",
        "    for i in range(feature_num):\n",
        "        feature_list=[example[i] for example in dataSet]\n",
        "        feature_class=set(feature_list)#Get all possible values of the feature\n",
        "        conditional_entropy=0\n",
        "        for value in feature_class:\n",
        "                retdataset=remove_feature(dataSet, i, value)\n",
        "                Pi=len(retdataset)/float(len(dataSet))\n",
        "                conditional_entropy+=Pi*cal_entropy(retdataset)# Find conditional entropy\n",
        "                mutual_info=entropy-conditional_entropy# mutual information\n",
        "        if (mutual_info>max_mutual_info):\n",
        "            max_mutual_info=mutual_info\n",
        "            best_feature=i\n",
        "    return best_feature\n",
        " \n",
        "\n",
        "    \n",
        "def majority_vote(class_list):\n",
        "    class_count={}\n",
        "    for vote in class_list:\n",
        "        if vote not in class_count.keys():\n",
        "            class_count[vote]=0\n",
        "        class_count[vote]+=1\n",
        "    sort_class_count=sorted(class_count.items(),key=operator.itemgetter(1),reverse=True)\n",
        "         #Sort to determine the class of the node\n",
        "    return sort_class_count[0][0]\n",
        "def create_tree(dataSet,labels):\n",
        "    class_list=[example[-1] for example in dataSet]\n",
        "    if class_list.count(class_list[0])==len(class_list):\n",
        "        return class_list[0]\n",
        "    if len(dataSet[0])==1:\n",
        "                 #Node has no features to continue decomposition\n",
        "        return majority_vote(class_list)\n",
        "    best_feature=choose_best_feature(dataSet)\n",
        "    best_feature_label=labels[best_feature]\n",
        "    my_tree={best_feature_label:{}}\n",
        "    del(labels[best_feature])\n",
        "         #Delete selected features\n",
        "    feature=[example[best_feature] for example in dataSet]\n",
        "    feature_class=set(feature)\n",
        "    for value in feature_class:\n",
        "        sublabels=labels[:]\n",
        "        my_tree[best_feature_label][value]=create_tree(remove_feature(dataSet,best_feature,value),sublabels)\n",
        "                 #Iteratively generate a decision tree\n",
        "    return my_tree\n",
        " \n",
        "if __name__=='__main__':\n",
        "    dataSet,labels=create_data()\n",
        "    print(create_tree(dataSet,labels))"
      ]
    }
  ]
}