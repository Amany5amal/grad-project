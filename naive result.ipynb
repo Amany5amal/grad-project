{
  "nbformat": 4,
  "nbformat_minor": 0,
  "metadata": {
    "colab": {
      "provenance": [],
      "authorship_tag": "ABX9TyO61ZGJsOq1x+cYmx2/EPsD",
      "include_colab_link": true
    },
    "kernelspec": {
      "name": "python3",
      "display_name": "Python 3"
    },
    "language_info": {
      "name": "python"
    }
  },
  "cells": [
    {
      "cell_type": "markdown",
      "metadata": {
        "id": "view-in-github",
        "colab_type": "text"
      },
      "source": [
        "<a href=\"https://colab.research.google.com/github/Amany5amal/grad-project/blob/main/naive%20result.ipynb\" target=\"_parent\"><img src=\"https://colab.research.google.com/assets/colab-badge.svg\" alt=\"Open In Colab\"/></a>"
      ]
    },
    {
      "cell_type": "code",
      "execution_count": 1,
      "metadata": {
        "colab": {
          "base_uri": "https://localhost:8080/"
        },
        "id": "bFZeGdroCxym",
        "outputId": "29b3ccff-75c6-4c36-ab23-b35bda45c423"
      },
      "outputs": [
        {
          "output_type": "stream",
          "name": "stdout",
          "text": [
            "0\n",
            "[0, 0, 1, 0, 0]\n",
            "[0, 0, 1, 1, 0]\n",
            "[2, 2, 0, 1, 0]\n",
            "[0, 1, 1, 0, 0]\n",
            "[2, 1, 1, 1, 0]\n",
            "1\n",
            "[1, 0, 1, 0, 1]\n",
            "[2, 1, 1, 0, 1]\n",
            "[2, 2, 0, 0, 1]\n",
            "[1, 2, 0, 1, 1]\n",
            "[0, 2, 0, 0, 1]\n",
            "[2, 1, 0, 0, 1]\n",
            "[0, 1, 0, 1, 1]\n",
            "[1, 1, 1, 1, 1]\n",
            "[1, 0, 0, 0, 1]\n"
          ]
        }
      ],
      "source": [
        "#dataset converted to integers using above notations\n",
        "dataset = [\n",
        "           [0,0,1,0,0],\n",
        "           [0,0,1,1,0],\n",
        "           [1,0,1,0,1],\n",
        "           [2,1,1,0,1],\n",
        "           [2,2,0,0,1],\n",
        "           [2,2,0,1,0],\n",
        "           [1,2,0,1,1],\n",
        "           [0,1,1,0,0],\n",
        "           [0,2,0,0,1],\n",
        "           [2,1,0,0,1],\n",
        "           [0,1,0,1,1],\n",
        "           [1,1,1,1,1],\n",
        "           [1,0,0,0,1],\n",
        "           [2,1,1,1,0]\n",
        "           ]\n",
        "mp = dict()\n",
        "for i in range(len(dataset)):\n",
        "    row = dataset[i]\n",
        "    y = row[-1]\n",
        "    if (y not in mp):\n",
        "        mp[y] = list()\n",
        "    mp[y].append(row)\n",
        "for label in mp:\n",
        "    print(label)\n",
        "    for row in mp[label]:\n",
        "        print(row)"
      ]
    },
    {
      "cell_type": "code",
      "source": [
        "test = [2,1,0,1]"
      ],
      "metadata": {
        "id": "Gce4uILuC8PK"
      },
      "execution_count": 2,
      "outputs": []
    },
    {
      "cell_type": "code",
      "source": [
        "\n",
        "probYes = 1\n",
        "\n",
        "count = 0\n",
        "total = 0\n",
        "for row in dataset:\n",
        "    if(row[-1] == 1):\n",
        "        count+=1\n",
        "    total+=1\n",
        "print(\"Total yes: \"+str(count)+\" / \"+str(total))\n",
        "probYes *= count/total\n",
        "for i in range(len(test)):\n",
        "    count = 0\n",
        "    total = 0\n",
        "    for row in mp[1]:\n",
        "        if(test[i] == row[i]):\n",
        "            count += 1\n",
        "        total += 1\n",
        "    print('for feature '+str(i+1))\n",
        "    print(str(count)+\" / \"+str(total))\n",
        "    probYes *= count/total\n",
        "\n",
        "probNo = 1\n",
        "count = 0\n",
        "total = 0\n",
        "for row in dataset:\n",
        "    if(row[-1] == 0):\n",
        "        count+=1\n",
        "    total+=1\n",
        "probNo *= count/total\n",
        "print(\"Total no: \"+str(count)+\" / \"+str(total))\n",
        "for i in range(len(test)):\n",
        "    count = 0\n",
        "    total = 0\n",
        "    for row in mp[0]:\n",
        "        if(test[i] == row[i]):\n",
        "            count += 1\n",
        "        total += 1\n",
        "    print('for feature '+str(i+1))\n",
        "    print(str(count)+\" / \"+str(total))"
      ],
      "metadata": {
        "colab": {
          "base_uri": "https://localhost:8080/"
        },
        "id": "XfFZnEwUDBdl",
        "outputId": "06fe136e-eae8-4cc4-97ee-7cfb37e2e2e2"
      },
      "execution_count": 3,
      "outputs": [
        {
          "output_type": "stream",
          "name": "stdout",
          "text": [
            "Total yes: 9 / 14\n",
            "for feature 1\n",
            "3 / 9\n",
            "for feature 2\n",
            "4 / 9\n",
            "for feature 3\n",
            "6 / 9\n",
            "for feature 4\n",
            "3 / 9\n",
            "Total no: 5 / 14\n",
            "for feature 1\n",
            "2 / 5\n",
            "for feature 2\n",
            "2 / 5\n",
            "for feature 3\n",
            "1 / 5\n",
            "for feature 4\n",
            "3 / 5\n"
          ]
        }
      ]
    },
    {
      "cell_type": "code",
      "source": [
        "probNo *= count/total\n",
        "print(probYes)\n",
        "print(probNo)"
      ],
      "metadata": {
        "colab": {
          "base_uri": "https://localhost:8080/"
        },
        "id": "cNWlp3-bDGZH",
        "outputId": "f4fc4b1c-b344-49e0-f493-125cd5b3f3d0"
      },
      "execution_count": 4,
      "outputs": [
        {
          "output_type": "stream",
          "name": "stdout",
          "text": [
            "0.021164021164021163\n",
            "0.21428571428571427\n"
          ]
        }
      ]
    },
    {
      "cell_type": "code",
      "source": [
        "prob = probYes/(probYes+probNo)\n",
        "print(\"Probability of playing golf: \"+str(prob*100)+\"%\")"
      ],
      "metadata": {
        "colab": {
          "base_uri": "https://localhost:8080/"
        },
        "id": "1h1mmU_3DOkr",
        "outputId": "7b795f2f-74c1-46ab-b0bc-3d69970eab1b"
      },
      "execution_count": 5,
      "outputs": [
        {
          "output_type": "stream",
          "name": "stdout",
          "text": [
            "Probability of playing golf: 8.98876404494382%\n"
          ]
        }
      ]
    }
  ]
}